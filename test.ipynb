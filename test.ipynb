{
  "nbformat": 4,
  "nbformat_minor": 0,
  "metadata": {
    "colab": {
      "provenance": []
    },
    "kernelspec": {
      "name": "python3",
      "display_name": "Python 3"
    },
    "language_info": {
      "name": "python"
    }
  },
  "cells": [
    {
      "cell_type": "code",
      "execution_count": null,
      "metadata": {
        "id": "gnkpxgr88NYN"
      },
      "outputs": [],
      "source": [
        "!pip install scikit-learn-intelex"
      ]
    },
    {
      "cell_type": "code",
      "source": [
        "from sklearnex import patch_sklearn\n",
        "\n",
        "patch_sklearn()"
      ],
      "metadata": {
        "id": "tLaSeg7S--iA"
      },
      "execution_count": null,
      "outputs": []
    }
  ]
}